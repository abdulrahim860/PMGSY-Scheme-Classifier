{
 "cells": [
  {
   "cell_type": "code",
   "execution_count": 19,
   "id": "92100f36",
   "metadata": {},
   "outputs": [],
   "source": [
    "import pandas as pd\n",
    "import numpy as np\n",
    "from sklearn.preprocessing import LabelEncoder,StandardScaler\n",
    "from sklearn.model_selection import train_test_split\n",
    "from sklearn.ensemble import RandomForestClassifier\n",
    "from sklearn.metrics import accuracy_score,classification_report,confusion_matrix\n",
    "import matplotlib.pyplot as plt\n",
    "import seaborn as sns"
   ]
  },
  {
   "cell_type": "code",
   "execution_count": 3,
   "id": "dc776c60",
   "metadata": {},
   "outputs": [
    {
     "data": {
      "text/html": [
       "<div>\n",
       "<style scoped>\n",
       "    .dataframe tbody tr th:only-of-type {\n",
       "        vertical-align: middle;\n",
       "    }\n",
       "\n",
       "    .dataframe tbody tr th {\n",
       "        vertical-align: top;\n",
       "    }\n",
       "\n",
       "    .dataframe thead th {\n",
       "        text-align: right;\n",
       "    }\n",
       "</style>\n",
       "<table border=\"1\" class=\"dataframe\">\n",
       "  <thead>\n",
       "    <tr style=\"text-align: right;\">\n",
       "      <th></th>\n",
       "      <th>STATE_NAME</th>\n",
       "      <th>DISTRICT_NAME</th>\n",
       "      <th>PMGSY_SCHEME</th>\n",
       "      <th>NO_OF_ROAD_WORK_SANCTIONED</th>\n",
       "      <th>LENGTH_OF_ROAD_WORK_SANCTIONED</th>\n",
       "      <th>NO_OF_BRIDGES_SANCTIONED</th>\n",
       "      <th>COST_OF_WORKS_SANCTIONED</th>\n",
       "      <th>NO_OF_ROAD_WORKS_COMPLETED</th>\n",
       "      <th>LENGTH_OF_ROAD_WORK_COMPLETED</th>\n",
       "      <th>NO_OF_BRIDGES_COMPLETED</th>\n",
       "      <th>EXPENDITURE_OCCURED</th>\n",
       "      <th>NO_OF_ROAD_WORKS_BALANCE</th>\n",
       "      <th>LENGTH_OF_ROAD_WORK_BALANCE</th>\n",
       "      <th>NO_OF_BRIDGES_BALANCE</th>\n",
       "      <th>Unnamed: 14</th>\n",
       "    </tr>\n",
       "  </thead>\n",
       "  <tbody>\n",
       "    <tr>\n",
       "      <th>0</th>\n",
       "      <td>Andaman And Nicobar</td>\n",
       "      <td>Nicobar</td>\n",
       "      <td>PMGSY-I</td>\n",
       "      <td>3</td>\n",
       "      <td>2.969</td>\n",
       "      <td>0</td>\n",
       "      <td>1.38570</td>\n",
       "      <td>3</td>\n",
       "      <td>2.969</td>\n",
       "      <td>0</td>\n",
       "      <td>1.1082</td>\n",
       "      <td>0</td>\n",
       "      <td>0.000</td>\n",
       "      <td>0</td>\n",
       "      <td>NaN</td>\n",
       "    </tr>\n",
       "    <tr>\n",
       "      <th>1</th>\n",
       "      <td>Andaman And Nicobar</td>\n",
       "      <td>North and Middle Andaman</td>\n",
       "      <td>PMGSY-I</td>\n",
       "      <td>32</td>\n",
       "      <td>60.169</td>\n",
       "      <td>0</td>\n",
       "      <td>24.69080</td>\n",
       "      <td>32</td>\n",
       "      <td>59.190</td>\n",
       "      <td>0</td>\n",
       "      <td>18.5754</td>\n",
       "      <td>0</td>\n",
       "      <td>0.000</td>\n",
       "      <td>0</td>\n",
       "      <td>NaN</td>\n",
       "    </tr>\n",
       "    <tr>\n",
       "      <th>2</th>\n",
       "      <td>Andaman And Nicobar</td>\n",
       "      <td>North and Middle Andaman</td>\n",
       "      <td>PMGSY-II</td>\n",
       "      <td>24</td>\n",
       "      <td>54.670</td>\n",
       "      <td>0</td>\n",
       "      <td>27.76460</td>\n",
       "      <td>0</td>\n",
       "      <td>0.000</td>\n",
       "      <td>0</td>\n",
       "      <td>0.0000</td>\n",
       "      <td>24</td>\n",
       "      <td>54.670</td>\n",
       "      <td>0</td>\n",
       "      <td>NaN</td>\n",
       "    </tr>\n",
       "    <tr>\n",
       "      <th>3</th>\n",
       "      <td>Andaman And Nicobar</td>\n",
       "      <td>South Andaman</td>\n",
       "      <td>PMGSY-I</td>\n",
       "      <td>32</td>\n",
       "      <td>40.146</td>\n",
       "      <td>0</td>\n",
       "      <td>18.53750</td>\n",
       "      <td>31</td>\n",
       "      <td>39.287</td>\n",
       "      <td>0</td>\n",
       "      <td>11.6894</td>\n",
       "      <td>1</td>\n",
       "      <td>0.541</td>\n",
       "      <td>0</td>\n",
       "      <td>NaN</td>\n",
       "    </tr>\n",
       "    <tr>\n",
       "      <th>4</th>\n",
       "      <td>Andaman And Nicobar</td>\n",
       "      <td>South Andaman</td>\n",
       "      <td>PMGSY-II</td>\n",
       "      <td>24</td>\n",
       "      <td>41.992</td>\n",
       "      <td>0</td>\n",
       "      <td>23.42439</td>\n",
       "      <td>7</td>\n",
       "      <td>17.747</td>\n",
       "      <td>0</td>\n",
       "      <td>8.6343</td>\n",
       "      <td>17</td>\n",
       "      <td>24.033</td>\n",
       "      <td>0</td>\n",
       "      <td>NaN</td>\n",
       "    </tr>\n",
       "  </tbody>\n",
       "</table>\n",
       "</div>"
      ],
      "text/plain": [
       "            STATE_NAME             DISTRICT_NAME PMGSY_SCHEME  \\\n",
       "0  Andaman And Nicobar                   Nicobar      PMGSY-I   \n",
       "1  Andaman And Nicobar  North and Middle Andaman      PMGSY-I   \n",
       "2  Andaman And Nicobar  North and Middle Andaman     PMGSY-II   \n",
       "3  Andaman And Nicobar             South Andaman      PMGSY-I   \n",
       "4  Andaman And Nicobar             South Andaman     PMGSY-II   \n",
       "\n",
       "   NO_OF_ROAD_WORK_SANCTIONED  LENGTH_OF_ROAD_WORK_SANCTIONED  \\\n",
       "0                           3                           2.969   \n",
       "1                          32                          60.169   \n",
       "2                          24                          54.670   \n",
       "3                          32                          40.146   \n",
       "4                          24                          41.992   \n",
       "\n",
       "   NO_OF_BRIDGES_SANCTIONED  COST_OF_WORKS_SANCTIONED  \\\n",
       "0                         0                   1.38570   \n",
       "1                         0                  24.69080   \n",
       "2                         0                  27.76460   \n",
       "3                         0                  18.53750   \n",
       "4                         0                  23.42439   \n",
       "\n",
       "   NO_OF_ROAD_WORKS_COMPLETED  LENGTH_OF_ROAD_WORK_COMPLETED  \\\n",
       "0                           3                          2.969   \n",
       "1                          32                         59.190   \n",
       "2                           0                          0.000   \n",
       "3                          31                         39.287   \n",
       "4                           7                         17.747   \n",
       "\n",
       "   NO_OF_BRIDGES_COMPLETED  EXPENDITURE_OCCURED  NO_OF_ROAD_WORKS_BALANCE  \\\n",
       "0                        0               1.1082                         0   \n",
       "1                        0              18.5754                         0   \n",
       "2                        0               0.0000                        24   \n",
       "3                        0              11.6894                         1   \n",
       "4                        0               8.6343                        17   \n",
       "\n",
       "   LENGTH_OF_ROAD_WORK_BALANCE  NO_OF_BRIDGES_BALANCE  Unnamed: 14  \n",
       "0                        0.000                      0          NaN  \n",
       "1                        0.000                      0          NaN  \n",
       "2                       54.670                      0          NaN  \n",
       "3                        0.541                      0          NaN  \n",
       "4                       24.033                      0          NaN  "
      ]
     },
     "execution_count": 3,
     "metadata": {},
     "output_type": "execute_result"
    }
   ],
   "source": [
    "df=pd.read_csv(r\"C:\\Users\\Abdul rahim\\Downloads\\PMGSY_DATASET.csv\")\n",
    "df.head()"
   ]
  },
  {
   "cell_type": "code",
   "execution_count": 4,
   "id": "d817c43b",
   "metadata": {},
   "outputs": [
    {
     "name": "stdout",
     "output_type": "stream",
     "text": [
      "STATE_NAME                           0\n",
      "DISTRICT_NAME                        0\n",
      "PMGSY_SCHEME                         0\n",
      "NO_OF_ROAD_WORK_SANCTIONED           0\n",
      "LENGTH_OF_ROAD_WORK_SANCTIONED       0\n",
      "NO_OF_BRIDGES_SANCTIONED             0\n",
      "COST_OF_WORKS_SANCTIONED            52\n",
      "NO_OF_ROAD_WORKS_COMPLETED           0\n",
      "LENGTH_OF_ROAD_WORK_COMPLETED        0\n",
      "NO_OF_BRIDGES_COMPLETED              0\n",
      "EXPENDITURE_OCCURED                  0\n",
      "NO_OF_ROAD_WORKS_BALANCE             0\n",
      "LENGTH_OF_ROAD_WORK_BALANCE          0\n",
      "NO_OF_BRIDGES_BALANCE                0\n",
      "Unnamed: 14                       2189\n",
      "dtype: int64\n"
     ]
    }
   ],
   "source": [
    "print(df.isnull().sum())"
   ]
  },
  {
   "cell_type": "code",
   "execution_count": 5,
   "id": "832400d6",
   "metadata": {},
   "outputs": [],
   "source": [
    "df.drop(columns=[\"Unnamed: 14\"],inplace=True)"
   ]
  },
  {
   "cell_type": "code",
   "execution_count": 6,
   "id": "b9f4833a",
   "metadata": {},
   "outputs": [],
   "source": [
    "df[\"COST_OF_WORKS_SANCTIONED\"] = df[\"COST_OF_WORKS_SANCTIONED\"].fillna(df[\"COST_OF_WORKS_SANCTIONED\"].median())\n"
   ]
  },
  {
   "cell_type": "code",
   "execution_count": 7,
   "id": "6094cb9a",
   "metadata": {},
   "outputs": [],
   "source": [
    "le_state=LabelEncoder()\n",
    "le_district=LabelEncoder()\n",
    "le_scheme=LabelEncoder()\n",
    "\n",
    "df['STATE_ENC']=le_state.fit_transform(df['STATE_NAME'])\n",
    "df['DISTRICT_ENC']=le_district.fit_transform(df['DISTRICT_NAME'])\n",
    "df['SCHEME_ENC']=le_scheme.fit_transform(df[\"PMGSY_SCHEME\"])\n"
   ]
  },
  {
   "cell_type": "code",
   "execution_count": 8,
   "id": "8810685b",
   "metadata": {},
   "outputs": [],
   "source": [
    "df.drop([\"STATE_NAME\",\"DISTRICT_NAME\",\"PMGSY_SCHEME\"],axis=1,inplace=True)"
   ]
  },
  {
   "cell_type": "code",
   "execution_count": 9,
   "id": "3d84b6a1",
   "metadata": {},
   "outputs": [],
   "source": [
    "df[\"ROAD_COMPLETION_RATE\"] = df[\"NO_OF_ROAD_WORKS_COMPLETED\"] / (df[\"NO_OF_ROAD_WORK_SANCTIONED\"] + 1e-6)\n",
    "df[\"BRIDGE_COMPLETION_RATE\"] = df[\"NO_OF_BRIDGES_COMPLETED\"] / (df[\"NO_OF_BRIDGES_SANCTIONED\"] + 1e-6)\n",
    "df[\"COST_PER_KM\"] = df[\"COST_OF_WORKS_SANCTIONED\"] / (df[\"LENGTH_OF_ROAD_WORK_SANCTIONED\"] + 1e-6)\n",
    "df[\"EXPENDITURE_RATIO\"] = df[\"EXPENDITURE_OCCURED\"] / (df[\"COST_OF_WORKS_SANCTIONED\"] + 1e-6)"
   ]
  },
  {
   "cell_type": "code",
   "execution_count": 10,
   "id": "e945a7c3",
   "metadata": {},
   "outputs": [],
   "source": [
    "X=df.drop(\"SCHEME_ENC\",axis=1)\n",
    "y=df[\"SCHEME_ENC\"]"
   ]
  },
  {
   "cell_type": "code",
   "execution_count": 11,
   "id": "4fffdece",
   "metadata": {},
   "outputs": [],
   "source": [
    "X_train, X_test, y_train, y_test=train_test_split(X,y,test_size=0.2,random_state=42)"
   ]
  },
  {
   "cell_type": "code",
   "execution_count": 12,
   "id": "0ccbe92c",
   "metadata": {},
   "outputs": [],
   "source": [
    "scaler=StandardScaler()\n",
    "X_train_scaled=scaler.fit_transform(X_train)\n",
    "X_test_scaled=scaler.transform(X_test)"
   ]
  },
  {
   "cell_type": "code",
   "execution_count": 26,
   "id": "1d22ae38",
   "metadata": {},
   "outputs": [
    {
     "name": "stdout",
     "output_type": "stream",
     "text": [
      "XGBoost Accuracy: 0.9223744292237442\n",
      "\n",
      "Classification Report:\n",
      "               precision    recall  f1-score   support\n",
      "\n",
      "           0       1.00      1.00      1.00         6\n",
      "           1       0.97      0.95      0.96       143\n",
      "           2       0.87      0.95      0.91       128\n",
      "           3       0.92      0.90      0.91       150\n",
      "           4       0.83      0.45      0.59        11\n",
      "\n",
      "    accuracy                           0.92       438\n",
      "   macro avg       0.92      0.85      0.87       438\n",
      "weighted avg       0.92      0.92      0.92       438\n",
      "\n"
     ]
    }
   ],
   "source": [
    "from xgboost import XGBClassifier\n",
    "\n",
    "xgb = XGBClassifier(n_estimators=300, learning_rate=0.3, max_depth=6, random_state=42)\n",
    "xgb.fit(X_train_scaled, y_train)\n",
    "\n",
    "y_pred = xgb.predict(X_test_scaled)\n",
    "\n",
    "print(\"XGBoost Accuracy:\", accuracy_score(y_test, y_pred))\n",
    "print(\"\\nClassification Report:\\n\", classification_report(y_test, y_pred))"
   ]
  },
  {
   "cell_type": "code",
   "execution_count": 23,
   "id": "4e03ab62",
   "metadata": {},
   "outputs": [
    {
     "data": {
      "image/png": "[encoded data removed]",
      "text/plain": [
       "<Figure size 800x600 with 2 Axes>"
      ]
     },
     "metadata": {},
     "output_type": "display_data"
    }
   ],
   "source": [
    "cm = confusion_matrix(y_test, y_pred)\n",
    "\n",
    "plt.figure(figsize=(8,6))\n",
    "sns.heatmap(cm, annot=True, fmt=\"d\", cmap=\"Blues\",\n",
    "            xticklabels=np.unique(y_test),\n",
    "            yticklabels=np.unique(y_test))\n",
    "plt.xlabel(\"Predicted Scheme\")\n",
    "plt.ylabel(\"Actual Scheme\")\n",
    "plt.title(\"Confusion Matrix - XGBoost (PMGSY Scheme Classification)\")\n",
    "plt.show()"
   ]
  },
  {
   "cell_type": "code",
   "execution_count": null,
   "id": "79b91f5e",
   "metadata": {},
   "outputs": [],
   "source": []
  }
 ],
 "metadata": {
  "kernelspec": {
   "display_name": "base",
   "language": "python",
   "name": "python3"
  },
  "language_info": {
   "codemirror_mode": {
    "name": "ipython",
    "version": 3
   },
   "file_extension": ".py",
   "mimetype": "text/x-python",
   "name": "python",
   "nbconvert_exporter": "python",
   "pygments_lexer": "ipython3",
   "version": "3.13.5"
  }
 },
 "nbformat": 4,
 "nbformat_minor": 5
}
